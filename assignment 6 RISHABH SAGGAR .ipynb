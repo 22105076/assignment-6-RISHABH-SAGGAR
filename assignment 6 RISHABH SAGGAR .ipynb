{
 "cells": [
  {
   "cell_type": "code",
   "execution_count": null,
   "metadata": {},
   "outputs": [],
   "source": [
    "#QUESTION-1\n",
    "\n",
    "number=int(input(\"enter the number=\"))\n",
    "\n",
    "print(number)\n",
    "\n",
    "divisors=list()\n",
    "\n",
    "for i in range(1,number):\n",
    "    if (number%i==0):\n",
    "        divisors.append(i)\n",
    "\n",
    "print(f\"divisors of {number} is {divisors}\")\n",
    "\n",
    "sum=0\n",
    "\n",
    "for i in range(0,len(divisors)):\n",
    "    sum=sum+divisors[i]\n",
    "\n",
    "print(\"sum of divisors=\",sum)\n",
    "\n",
    "if(sum==number):\n",
    "    \n",
    "    print(f\"{number} is the PERFECT NUMBER\")\n",
    "else:\n",
    "    print(\"NOT a PERFECT NUMBER\")\n",
    "\n"
   ]
  },
  {
   "cell_type": "code",
   "execution_count": null,
   "metadata": {},
   "outputs": [],
   "source": [
    "#QUESTION-2\n",
    "\n",
    "# passed string is palindrome or not\n",
    "def main():\n",
    "    user_input = str(input(\"Enter the string here - \"))\n",
    "    string = user_input.replace(\" \" , \"\")\n",
    "    reverse = string[::-1]\n",
    "    if reverse == string:\n",
    "        print(\"The string is palindrome\")\n",
    "    else:\n",
    "        print(\"The string is not a palindrome\")\n",
    "main()"
   ]
  },
  {
   "cell_type": "code",
   "execution_count": null,
   "metadata": {},
   "outputs": [],
   "source": [
    "#QUESTION-3\n",
    "\n",
    "# first n rows of pascals triangle\n",
    "from math import factorial\n",
    "def main():\n",
    "    rows = int(input(\"Enter the number of rows - \"))\n",
    "\n",
    "    for i in range(rows):\n",
    "        for j in range(rows - i+ 1):\n",
    "            print( end = \" \")\n",
    "        \n",
    "        for t in range(i+1):\n",
    "            answer = factorial(i)//(factorial(t) * factorial(i-t))\n",
    "            print(answer , end = \" \")\n",
    "        print()\n",
    "main()\n"
   ]
  },
  {
   "cell_type": "code",
   "execution_count": null,
   "metadata": {},
   "outputs": [],
   "source": [
    "#QUESTION-4\n",
    "\n",
    "# string is a panagram or not (contains every word of the alphabet table )\n",
    "def main():\n",
    "    Input = str(input(\"Enter the string here - \"))\n",
    "    alphabet = \"abcdefghijklmnopqrstuvwxyz\"\n",
    "    for char in alphabet:\n",
    "        if char not in Input.lower():\n",
    "            flag = True\n",
    "        else:\n",
    "            flag = False\n",
    "    if flag:\n",
    "        print(\"Not Panagram\")\n",
    "    else:\n",
    "        print(\"Panagram\")\n",
    "main()"
   ]
  },
  {
   "cell_type": "code",
   "execution_count": null,
   "metadata": {},
   "outputs": [],
   "source": [
    "#QUESTION-5\n",
    "\n",
    "# sorting alphabetically\n",
    "def main():\n",
    "    input_string = str(input(\"Enter the string here - \"))\n",
    "    list = input_string.split(\"-\")\n",
    "    list.sort()\n",
    "    for i in range(0 , len(list)):\n",
    "        print(f\"-{list[i]}\" , end = \" \")\n",
    "        \n",
    "    \n",
    "main()"
   ]
  },
  {
   "cell_type": "code",
   "execution_count": null,
   "metadata": {},
   "outputs": [],
   "source": [
    "#QUESTION-6\n",
    "\n",
    "def student_data(student_id , **kwargs):\n",
    "    print(f\"Student id is {student_id}\")\n",
    "    if \"student_name\" in kwargs:\n",
    "        print(f\"The student name is {kwargs['student_name']}\")\n",
    "    if \"student_name\" and \"student_class\" in kwargs:\n",
    "        print(f\"The student name is {kwargs['student_name']} and Class is {kwargs['student_class']}\")\n",
    "\n",
    "def main():\n",
    "    \n",
    "    student_data(student_id=\"22103109\")\n",
    "    student_data(student_id=\"22103109\" , student_name=\"Abhishek\" , student_class=\"CSE\")\n",
    "\n",
    "main()\n"
   ]
  },
  {
   "cell_type": "code",
   "execution_count": null,
   "metadata": {},
   "outputs": [],
   "source": [
    "#QUESTION-7\n",
    "\n",
    "# instance or not and subclasses\n",
    "def main():\n",
    "    class student():\n",
    "        pass\n",
    "    class marks():\n",
    "        pass\n",
    "    student1 = student()\n",
    "    marks1 = marks()\n",
    "    print(isinstance(student1 , student))\n",
    "    print(isinstance(marks1 , marks))\n",
    "    print(\"Whether the said classes are subclasses of the built-in object class or not\")\n",
    "    print(issubclass(student , object))\n",
    "    print(issubclass(marks , object))\n",
    "\n",
    "main()"
   ]
  },
  {
   "cell_type": "code",
   "execution_count": null,
   "metadata": {},
   "outputs": [],
   "source": [
    "#QUESTION-8\n",
    "\n",
    "# find the three elements that sum to zero from a set of n real number\n",
    "def main():\n",
    "    class solution():\n",
    "        def findTriplets(self , list1 , n):\n",
    "            list2 = []\n",
    "            for i in range(0 , n-2):\n",
    "                for j in range(i+1 , n-1):\n",
    "                    for k in range(j+1 , n):\n",
    "                        if list1[i] + list1[j] + list1[k] == 0:\n",
    "                            a = list1[i]\n",
    "                            b = list1[j]\n",
    "                            c = list1[k]\n",
    "                            list_number = [a , b ,c]\n",
    "                            list2.append(list_number)\n",
    "            print(list2)\n",
    "            \n",
    "    solution1 = solution()\n",
    "    list1 = [-25, -10, -7, -3, 2, 4, 8, 10]\n",
    "    n = len(list1)\n",
    "    solution1.findTriplets(list1 , n)\n",
    "main()"
   ]
  },
  {
   "cell_type": "code",
   "execution_count": null,
   "metadata": {},
   "outputs": [],
   "source": [
    "#QUESTION-9\n",
    "\n",
    "# validity of a string of parantheses\n",
    "def check(sequence):\n",
    "    for i in range(0,4):\n",
    "        if \"()\" in sequence:\n",
    "            sequence = sequence.replace(\"()\" , \"\")\n",
    "        elif \"{}\" in sequence:\n",
    "            sequence = sequence.replace(\"{}\" , \"\")\n",
    "        elif \"[]\" in sequence:\n",
    "            sequence = sequence.replace(\"[]\" , \"\")\n",
    "        else:\n",
    "            return not sequence\n",
    "def main():\n",
    "    seq = \"{{}{[\"\n",
    "    print(f\"if the set of parnatheses is correct? - {check(seq)}\")\n",
    "    seq2 = \"(){}[]\"\n",
    "    print(f\"if the set of parnatheses is correct? - {check(seq2)}\")\n",
    "main()\n"
   ]
  }
 ],
 "metadata": {
  "kernelspec": {
   "display_name": "Python 3",
   "language": "python",
   "name": "python3"
  },
  "language_info": {
   "codemirror_mode": {
    "name": "ipython",
    "version": 3
   },
   "file_extension": ".py",
   "mimetype": "text/x-python",
   "name": "python",
   "nbconvert_exporter": "python",
   "pygments_lexer": "ipython3",
   "version": "3.9.6"
  },
  "orig_nbformat": 4,
  "vscode": {
   "interpreter": {
    "hash": "31f2aee4e71d21fbe5cf8b01ff0e069b9275f58929596ceb00d14d90e3e16cd6"
   }
  }
 },
 "nbformat": 4,
 "nbformat_minor": 2
}
